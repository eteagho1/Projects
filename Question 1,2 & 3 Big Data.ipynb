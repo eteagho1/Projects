{
 "cells": [
  {
   "cell_type": "code",
   "execution_count": 1,
   "id": "cf5864d7",
   "metadata": {},
   "outputs": [],
   "source": [
    "import numpy as np\n",
    "import pandas as pd\n",
    "import matplotlib.pyplot as plt\n"
   ]
  },
  {
   "cell_type": "code",
   "execution_count": 2,
   "id": "ead02fba",
   "metadata": {},
   "outputs": [
    {
     "data": {
      "text/html": [
       "<div>\n",
       "<style scoped>\n",
       "    .dataframe tbody tr th:only-of-type {\n",
       "        vertical-align: middle;\n",
       "    }\n",
       "\n",
       "    .dataframe tbody tr th {\n",
       "        vertical-align: top;\n",
       "    }\n",
       "\n",
       "    .dataframe thead th {\n",
       "        text-align: right;\n",
       "    }\n",
       "</style>\n",
       "<table border=\"1\" class=\"dataframe\">\n",
       "  <thead>\n",
       "    <tr style=\"text-align: right;\">\n",
       "      <th></th>\n",
       "      <th>day_of_week</th>\n",
       "      <th>time</th>\n",
       "      <th>Number of Accidents</th>\n",
       "    </tr>\n",
       "  </thead>\n",
       "  <tbody>\n",
       "    <tr>\n",
       "      <th>0</th>\n",
       "      <td>6</td>\n",
       "      <td>17:00</td>\n",
       "      <td>170</td>\n",
       "    </tr>\n",
       "    <tr>\n",
       "      <th>1</th>\n",
       "      <td>5</td>\n",
       "      <td>18:00</td>\n",
       "      <td>134</td>\n",
       "    </tr>\n",
       "    <tr>\n",
       "      <th>2</th>\n",
       "      <td>6</td>\n",
       "      <td>15:00</td>\n",
       "      <td>132</td>\n",
       "    </tr>\n",
       "    <tr>\n",
       "      <th>3</th>\n",
       "      <td>4</td>\n",
       "      <td>17:00</td>\n",
       "      <td>131</td>\n",
       "    </tr>\n",
       "    <tr>\n",
       "      <th>4</th>\n",
       "      <td>2</td>\n",
       "      <td>16:00</td>\n",
       "      <td>130</td>\n",
       "    </tr>\n",
       "  </tbody>\n",
       "</table>\n",
       "</div>"
      ],
      "text/plain": [
       "   day_of_week   time  Number of Accidents\n",
       "0            6  17:00                  170\n",
       "1            5  18:00                  134\n",
       "2            6  15:00                  132\n",
       "3            4  17:00                  131\n",
       "4            2  16:00                  130"
      ]
     },
     "execution_count": 2,
     "metadata": {},
     "output_type": "execute_result"
    }
   ],
   "source": [
    "data = pd.read_csv(r\"C:\\Users\\hp pc\\Desktop\\Quincy\\accident\\question 1.csv\")\n",
    "data.head()"
   ]
  },
  {
   "cell_type": "code",
   "execution_count": 3,
   "id": "b77da92b",
   "metadata": {},
   "outputs": [
    {
     "data": {
      "image/png": "[encoded data removed]",
      "text/plain": [
       "<Figure size 432x288 with 1 Axes>"
      ]
     },
     "metadata": {
      "needs_background": "light"
     },
     "output_type": "display_data"
    }
   ],
   "source": [
    "# creating a bar plot \n",
    "plt.bar(data[\"day_of_week\"], data[\"Number of Accidents\"], color = 'r')\n",
    "\n",
    "#Adding a title\n",
    "plt.title(\"Number of accidents by day of the week\")\n",
    "\n",
    "# Adding labels to the axes\n",
    "plt.xlabel(\"Day of the week\")\n",
    "plt.ylabel(\"Number of accidents\")\n",
    "\n",
    "#showing the plot \n",
    "plt.show()"
   ]
  },
  {
   "cell_type": "code",
   "execution_count": 4,
   "id": "84aeb62c",
   "metadata": {},
   "outputs": [
    {
     "data": {
      "text/html": [
       "<div>\n",
       "<style scoped>\n",
       "    .dataframe tbody tr th:only-of-type {\n",
       "        vertical-align: middle;\n",
       "    }\n",
       "\n",
       "    .dataframe tbody tr th {\n",
       "        vertical-align: top;\n",
       "    }\n",
       "\n",
       "    .dataframe thead th {\n",
       "        text-align: right;\n",
       "    }\n",
       "</style>\n",
       "<table border=\"1\" class=\"dataframe\">\n",
       "  <thead>\n",
       "    <tr style=\"text-align: right;\">\n",
       "      <th></th>\n",
       "      <th>accident_year</th>\n",
       "      <th>time</th>\n",
       "      <th>date</th>\n",
       "      <th>Number_of_accidents</th>\n",
       "    </tr>\n",
       "  </thead>\n",
       "  <tbody>\n",
       "    <tr>\n",
       "      <th>0</th>\n",
       "      <td>2020</td>\n",
       "      <td>17:00</td>\n",
       "      <td>4/1/2020</td>\n",
       "      <td>862</td>\n",
       "    </tr>\n",
       "    <tr>\n",
       "      <th>1</th>\n",
       "      <td>2020</td>\n",
       "      <td>16:00</td>\n",
       "      <td>6/1/2020</td>\n",
       "      <td>785</td>\n",
       "    </tr>\n",
       "    <tr>\n",
       "      <th>2</th>\n",
       "      <td>2020</td>\n",
       "      <td>15:00</td>\n",
       "      <td>1/1/2020</td>\n",
       "      <td>774</td>\n",
       "    </tr>\n",
       "    <tr>\n",
       "      <th>3</th>\n",
       "      <td>2020</td>\n",
       "      <td>17:30</td>\n",
       "      <td>6/1/2020</td>\n",
       "      <td>746</td>\n",
       "    </tr>\n",
       "    <tr>\n",
       "      <th>4</th>\n",
       "      <td>2020</td>\n",
       "      <td>18:00</td>\n",
       "      <td>3/1/2020</td>\n",
       "      <td>739</td>\n",
       "    </tr>\n",
       "  </tbody>\n",
       "</table>\n",
       "</div>"
      ],
      "text/plain": [
       "   accident_year   time      date  Number_of_accidents\n",
       "0           2020  17:00  4/1/2020                  862\n",
       "1           2020  16:00  6/1/2020                  785\n",
       "2           2020  15:00  1/1/2020                  774\n",
       "3           2020  17:30  6/1/2020                  746\n",
       "4           2020  18:00  3/1/2020                  739"
      ]
     },
     "execution_count": 4,
     "metadata": {},
     "output_type": "execute_result"
    }
   ],
   "source": [
    "hour = pd.read_csv(r\"C:\\Users\\hp pc\\Desktop\\Quincy\\accident\\question 1b.csv\")\n",
    "hour.head()"
   ]
  },
  {
   "cell_type": "code",
   "execution_count": 5,
   "id": "e28ab975",
   "metadata": {},
   "outputs": [
    {
     "data": {
      "image/png": "[encoded data removed]",
      "text/plain": [
       "<Figure size 864x432 with 1 Axes>"
      ]
     },
     "metadata": {
      "needs_background": "light"
     },
     "output_type": "display_data"
    }
   ],
   "source": [
    "# Increase the size of the chart\n",
    "plt.figure(figsize=(12, 6))\n",
    "\n",
    "# Plotting the time series\n",
    "plt.plot(hour.time, hour.Number_of_accidents)\n",
    "\n",
    "# Adding title\n",
    "plt.title(\"Number of Accidents based on Hour of the day\")\n",
    "\n",
    "# Adding labels to the axes\n",
    "plt.xlabel(\"Hour of the day\")\n",
    "plt.ylabel(\"Number of Accidents\")\n",
    "\n",
    "# Show every 2nd x-axis label and rotate them\n",
    "plt.xticks(hour.time[::2], rotation=45)\n",
    "\n",
    "# Add a grid\n",
    "plt.grid(True)\n",
    "# Showing the plot\n",
    "plt.show()"
   ]
  },
  {
   "cell_type": "code",
   "execution_count": 6,
   "id": "409b7c4f",
   "metadata": {},
   "outputs": [
    {
     "data": {
      "text/html": [
       "<div>\n",
       "<style scoped>\n",
       "    .dataframe tbody tr th:only-of-type {\n",
       "        vertical-align: middle;\n",
       "    }\n",
       "\n",
       "    .dataframe tbody tr th {\n",
       "        vertical-align: top;\n",
       "    }\n",
       "\n",
       "    .dataframe thead th {\n",
       "        text-align: right;\n",
       "    }\n",
       "</style>\n",
       "<table border=\"1\" class=\"dataframe\">\n",
       "  <thead>\n",
       "    <tr style=\"text-align: right;\">\n",
       "      <th></th>\n",
       "      <th>vehicle_type</th>\n",
       "      <th>accident_year</th>\n",
       "      <th>day_of_week</th>\n",
       "      <th>time</th>\n",
       "      <th>date</th>\n",
       "      <th>Number_of_Accidents</th>\n",
       "    </tr>\n",
       "  </thead>\n",
       "  <tbody>\n",
       "    <tr>\n",
       "      <th>0</th>\n",
       "      <td>3</td>\n",
       "      <td>2020</td>\n",
       "      <td>6</td>\n",
       "      <td>7:50</td>\n",
       "      <td>3/1/2020</td>\n",
       "      <td>1474</td>\n",
       "    </tr>\n",
       "    <tr>\n",
       "      <th>1</th>\n",
       "      <td>3</td>\n",
       "      <td>2020</td>\n",
       "      <td>5</td>\n",
       "      <td>13:20</td>\n",
       "      <td>2/1/2020</td>\n",
       "      <td>1389</td>\n",
       "    </tr>\n",
       "    <tr>\n",
       "      <th>2</th>\n",
       "      <td>3</td>\n",
       "      <td>2020</td>\n",
       "      <td>4</td>\n",
       "      <td>3:25</td>\n",
       "      <td>1/1/2020</td>\n",
       "      <td>1249</td>\n",
       "    </tr>\n",
       "    <tr>\n",
       "      <th>3</th>\n",
       "      <td>2</td>\n",
       "      <td>2020</td>\n",
       "      <td>7</td>\n",
       "      <td>20:25</td>\n",
       "      <td>4/1/2020</td>\n",
       "      <td>1216</td>\n",
       "    </tr>\n",
       "    <tr>\n",
       "      <th>4</th>\n",
       "      <td>3</td>\n",
       "      <td>2020</td>\n",
       "      <td>3</td>\n",
       "      <td>13:00</td>\n",
       "      <td>7/1/2020</td>\n",
       "      <td>1202</td>\n",
       "    </tr>\n",
       "  </tbody>\n",
       "</table>\n",
       "</div>"
      ],
      "text/plain": [
       "   vehicle_type  accident_year  day_of_week   time      date  \\\n",
       "0             3           2020            6   7:50  3/1/2020   \n",
       "1             3           2020            5  13:20  2/1/2020   \n",
       "2             3           2020            4   3:25  1/1/2020   \n",
       "3             2           2020            7  20:25  4/1/2020   \n",
       "4             3           2020            3  13:00  7/1/2020   \n",
       "\n",
       "   Number_of_Accidents  \n",
       "0                 1474  \n",
       "1                 1389  \n",
       "2                 1249  \n",
       "3                 1216  \n",
       "4                 1202  "
      ]
     },
     "execution_count": 6,
     "metadata": {},
     "output_type": "execute_result"
    }
   ],
   "source": [
    "motor_125 = pd.read_csv(r\"C:\\Users\\hp pc\\Desktop\\Quincy\\accident\\question 2a.csv\")\n",
    "motor_125.head()"
   ]
  },
  {
   "cell_type": "code",
   "execution_count": 7,
   "id": "82ba020a",
   "metadata": {},
   "outputs": [
    {
     "data": {
      "image/png": "[encoded data removed]",
      "text/plain": [
       "<Figure size 432x288 with 1 Axes>"
      ]
     },
     "metadata": {
      "needs_background": "light"
     },
     "output_type": "display_data"
    }
   ],
   "source": [
    "# creating a bar plot \n",
    "plt.barh(motor_125.day_of_week, motor_125.Number_of_Accidents, color = 'b')\n",
    "\n",
    "#Adding a title\n",
    "plt.title(\"Number of Accidents based on day of the week for Motorcycle 125cc and under\")\n",
    "\n",
    "# Adding labels to the axes\n",
    "plt.xlabel(\"Number of Accidents\")\n",
    "plt.ylabel(\"day_of_week\")\n",
    "\n",
    "# Showing the plot\n",
    "plt.show()"
   ]
  },
  {
   "cell_type": "code",
   "execution_count": 8,
   "id": "891bdafc",
   "metadata": {
    "scrolled": true
   },
   "outputs": [
    {
     "data": {
      "image/png": "[encoded data removed]",
      "text/plain": [
       "<Figure size 432x288 with 1 Axes>"
      ]
     },
     "metadata": {
      "needs_background": "light"
     },
     "output_type": "display_data"
    }
   ],
   "source": [
    "# creating a bar plot \n",
    "plt.barh(motor_125.time, motor_125.Number_of_Accidents, color = 'b')\n",
    "\n",
    "#Adding a title\n",
    "plt.title(\"Number of Accidents based on Hour of the day for Motorcycle 125cc and under\")\n",
    "\n",
    "# Adding labels to the axes\n",
    "plt.xlabel(\"Number of Accidents\")\n",
    "plt.ylabel(\"hours\")\n",
    "\n",
    "# Showing the plot\n",
    "plt.show()"
   ]
  },
  {
   "cell_type": "code",
   "execution_count": 9,
   "id": "92e90820",
   "metadata": {},
   "outputs": [
    {
     "data": {
      "text/html": [
       "<div>\n",
       "<style scoped>\n",
       "    .dataframe tbody tr th:only-of-type {\n",
       "        vertical-align: middle;\n",
       "    }\n",
       "\n",
       "    .dataframe tbody tr th {\n",
       "        vertical-align: top;\n",
       "    }\n",
       "\n",
       "    .dataframe thead th {\n",
       "        text-align: right;\n",
       "    }\n",
       "</style>\n",
       "<table border=\"1\" class=\"dataframe\">\n",
       "  <thead>\n",
       "    <tr style=\"text-align: right;\">\n",
       "      <th></th>\n",
       "      <th>vehicle_type</th>\n",
       "      <th>accident_year</th>\n",
       "      <th>day_of_week</th>\n",
       "      <th>time</th>\n",
       "      <th>date</th>\n",
       "      <th>Number_of_Accidents</th>\n",
       "    </tr>\n",
       "  </thead>\n",
       "  <tbody>\n",
       "    <tr>\n",
       "      <th>0</th>\n",
       "      <td>4</td>\n",
       "      <td>2020</td>\n",
       "      <td>6</td>\n",
       "      <td>14:35</td>\n",
       "      <td>10/1/2020</td>\n",
       "      <td>267</td>\n",
       "    </tr>\n",
       "    <tr>\n",
       "      <th>1</th>\n",
       "      <td>4</td>\n",
       "      <td>2020</td>\n",
       "      <td>5</td>\n",
       "      <td>14:17</td>\n",
       "      <td>2/1/2020</td>\n",
       "      <td>257</td>\n",
       "    </tr>\n",
       "    <tr>\n",
       "      <th>2</th>\n",
       "      <td>4</td>\n",
       "      <td>2020</td>\n",
       "      <td>4</td>\n",
       "      <td>14:55</td>\n",
       "      <td>15/01/2020</td>\n",
       "      <td>251</td>\n",
       "    </tr>\n",
       "    <tr>\n",
       "      <th>3</th>\n",
       "      <td>4</td>\n",
       "      <td>2020</td>\n",
       "      <td>7</td>\n",
       "      <td>0:27</td>\n",
       "      <td>11/1/2020</td>\n",
       "      <td>237</td>\n",
       "    </tr>\n",
       "    <tr>\n",
       "      <th>4</th>\n",
       "      <td>4</td>\n",
       "      <td>2020</td>\n",
       "      <td>3</td>\n",
       "      <td>16:33</td>\n",
       "      <td>7/1/2020</td>\n",
       "      <td>234</td>\n",
       "    </tr>\n",
       "  </tbody>\n",
       "</table>\n",
       "</div>"
      ],
      "text/plain": [
       "   vehicle_type  accident_year  day_of_week   time        date  \\\n",
       "0             4           2020            6  14:35   10/1/2020   \n",
       "1             4           2020            5  14:17    2/1/2020   \n",
       "2             4           2020            4  14:55  15/01/2020   \n",
       "3             4           2020            7   0:27   11/1/2020   \n",
       "4             4           2020            3  16:33    7/1/2020   \n",
       "\n",
       "   Number_of_Accidents  \n",
       "0                  267  \n",
       "1                  257  \n",
       "2                  251  \n",
       "3                  237  \n",
       "4                  234  "
      ]
     },
     "execution_count": 9,
     "metadata": {},
     "output_type": "execute_result"
    }
   ],
   "source": [
    "motor_125_over = pd.read_csv(r\"C:\\Users\\hp pc\\Desktop\\Quincy\\accident\\question 2b.csv\")\n",
    "motor_125_over.head()"
   ]
  },
  {
   "cell_type": "code",
   "execution_count": 10,
   "id": "5da23839",
   "metadata": {},
   "outputs": [
    {
     "data": {
      "image/png": "[encoded data removed]",
      "text/plain": [
       "<Figure size 432x288 with 1 Axes>"
      ]
     },
     "metadata": {
      "needs_background": "light"
     },
     "output_type": "display_data"
    }
   ],
   "source": [
    "# creating a bar plot \n",
    "plt.barh(motor_125_over.day_of_week, motor_125_over.Number_of_Accidents)\n",
    "\n",
    "#Adding a title\n",
    "plt.title(\"Number of Accidents based on day of the week for Motorcycle 125cc and up to 500cc\")\n",
    "\n",
    "# Adding labels to the axes\n",
    "plt.xlabel(\"Number of Accidents\")\n",
    "plt.ylabel(\"day_of_week\")\n",
    "\n",
    "# Showing the plot\n",
    "plt.show()"
   ]
  },
  {
   "cell_type": "code",
   "execution_count": 11,
   "id": "ffb0d3a4",
   "metadata": {},
   "outputs": [
    {
     "data": {
      "image/png": "[encoded data removed]",
      "text/plain": [
       "<Figure size 432x288 with 1 Axes>"
      ]
     },
     "metadata": {
      "needs_background": "light"
     },
     "output_type": "display_data"
    }
   ],
   "source": [
    "# creating a bar plot \n",
    "plt.barh(motor_125_over.time, motor_125_over.Number_of_Accidents)\n",
    "\n",
    "#Adding a title\n",
    "plt.title(\"Number of Accidents based on Hour of the day for Motorcycle 125cc and up to 500cc\")\n",
    "\n",
    "# Adding labels to the axes\n",
    "plt.xlabel(\"Number of Accidents\")\n",
    "plt.ylabel(\"Hours\")\n",
    "\n",
    "# Showing the plot\n",
    "plt.show()"
   ]
  },
  {
   "cell_type": "code",
   "execution_count": 12,
   "id": "4ae19386",
   "metadata": {},
   "outputs": [
    {
     "data": {
      "text/html": [
       "<div>\n",
       "<style scoped>\n",
       "    .dataframe tbody tr th:only-of-type {\n",
       "        vertical-align: middle;\n",
       "    }\n",
       "\n",
       "    .dataframe tbody tr th {\n",
       "        vertical-align: top;\n",
       "    }\n",
       "\n",
       "    .dataframe thead th {\n",
       "        text-align: right;\n",
       "    }\n",
       "</style>\n",
       "<table border=\"1\" class=\"dataframe\">\n",
       "  <thead>\n",
       "    <tr style=\"text-align: right;\">\n",
       "      <th></th>\n",
       "      <th>vehicle_type</th>\n",
       "      <th>accident_year</th>\n",
       "      <th>day_of_week</th>\n",
       "      <th>time</th>\n",
       "      <th>date</th>\n",
       "      <th>Number_of_Accidents</th>\n",
       "    </tr>\n",
       "  </thead>\n",
       "  <tbody>\n",
       "    <tr>\n",
       "      <th>0</th>\n",
       "      <td>5</td>\n",
       "      <td>2020</td>\n",
       "      <td>1</td>\n",
       "      <td>16:35</td>\n",
       "      <td>5/1/2020</td>\n",
       "      <td>675</td>\n",
       "    </tr>\n",
       "    <tr>\n",
       "      <th>1</th>\n",
       "      <td>5</td>\n",
       "      <td>2020</td>\n",
       "      <td>6</td>\n",
       "      <td>19:50</td>\n",
       "      <td>3/1/2020</td>\n",
       "      <td>567</td>\n",
       "    </tr>\n",
       "    <tr>\n",
       "      <th>2</th>\n",
       "      <td>5</td>\n",
       "      <td>2020</td>\n",
       "      <td>7</td>\n",
       "      <td>13:00</td>\n",
       "      <td>4/1/2020</td>\n",
       "      <td>550</td>\n",
       "    </tr>\n",
       "    <tr>\n",
       "      <th>3</th>\n",
       "      <td>5</td>\n",
       "      <td>2020</td>\n",
       "      <td>5</td>\n",
       "      <td>15:24</td>\n",
       "      <td>2/1/2020</td>\n",
       "      <td>526</td>\n",
       "    </tr>\n",
       "    <tr>\n",
       "      <th>4</th>\n",
       "      <td>5</td>\n",
       "      <td>2020</td>\n",
       "      <td>4</td>\n",
       "      <td>15:39</td>\n",
       "      <td>8/1/2020</td>\n",
       "      <td>501</td>\n",
       "    </tr>\n",
       "  </tbody>\n",
       "</table>\n",
       "</div>"
      ],
      "text/plain": [
       "   vehicle_type  accident_year  day_of_week   time      date  \\\n",
       "0             5           2020            1  16:35  5/1/2020   \n",
       "1             5           2020            6  19:50  3/1/2020   \n",
       "2             5           2020            7  13:00  4/1/2020   \n",
       "3             5           2020            5  15:24  2/1/2020   \n",
       "4             5           2020            4  15:39  8/1/2020   \n",
       "\n",
       "   Number_of_Accidents  \n",
       "0                  675  \n",
       "1                  567  \n",
       "2                  550  \n",
       "3                  526  \n",
       "4                  501  "
      ]
     },
     "execution_count": 12,
     "metadata": {},
     "output_type": "execute_result"
    }
   ],
   "source": [
    "motor_500_over = pd.read_csv(r\"C:\\Users\\hp pc\\Desktop\\Quincy\\accident\\question 2c.csv\")\n",
    "motor_500_over.head()"
   ]
  },
  {
   "cell_type": "code",
   "execution_count": 13,
   "id": "2bdd7623",
   "metadata": {},
   "outputs": [
    {
     "data": {
      "image/png": "[encoded data removed]",
      "text/plain": [
       "<Figure size 432x288 with 1 Axes>"
      ]
     },
     "metadata": {
      "needs_background": "light"
     },
     "output_type": "display_data"
    }
   ],
   "source": [
    "# creating a bar plot \n",
    "plt.barh(motor_500_over.day_of_week, motor_500_over.Number_of_Accidents)\n",
    "\n",
    "#Adding a title\n",
    "plt.title(\"Number of Accidents based on day of the week for Motorcycle over 500cc\")\n",
    "\n",
    "# Adding labels to the axes\n",
    "plt.xlabel(\"Number of Accidents\")\n",
    "plt.ylabel(\"day_of_week\")\n",
    "\n",
    "# Showing the plot\n",
    "plt.show()"
   ]
  },
  {
   "cell_type": "code",
   "execution_count": 14,
   "id": "b5d5950c",
   "metadata": {},
   "outputs": [
    {
     "data": {
      "image/png": "[encoded data removed]",
      "text/plain": [
       "<Figure size 432x288 with 1 Axes>"
      ]
     },
     "metadata": {
      "needs_background": "light"
     },
     "output_type": "display_data"
    }
   ],
   "source": [
    "# creating a bar plot \n",
    "plt.barh(motor_500_over.time, motor_500_over.Number_of_Accidents)\n",
    "\n",
    "#Adding a title\n",
    "plt.title(\"Number of Accidents based on Hour of the day for Motorcycle over 500cc\")\n",
    "\n",
    "# Adding labels to the axes\n",
    "plt.xlabel(\"Number of Accidents\")\n",
    "plt.ylabel(\"Hours\")\n",
    "\n",
    "# Showing the plot\n",
    "plt.show()"
   ]
  },
  {
   "cell_type": "code",
   "execution_count": 15,
   "id": "3b07046b",
   "metadata": {},
   "outputs": [
    {
     "data": {
      "text/html": [
       "<div>\n",
       "<style scoped>\n",
       "    .dataframe tbody tr th:only-of-type {\n",
       "        vertical-align: middle;\n",
       "    }\n",
       "\n",
       "    .dataframe tbody tr th {\n",
       "        vertical-align: top;\n",
       "    }\n",
       "\n",
       "    .dataframe thead th {\n",
       "        text-align: right;\n",
       "    }\n",
       "</style>\n",
       "<table border=\"1\" class=\"dataframe\">\n",
       "  <thead>\n",
       "    <tr style=\"text-align: right;\">\n",
       "      <th></th>\n",
       "      <th>accident_year</th>\n",
       "      <th>day_of_week</th>\n",
       "      <th>time</th>\n",
       "      <th>Number_of_Accidents</th>\n",
       "    </tr>\n",
       "  </thead>\n",
       "  <tbody>\n",
       "    <tr>\n",
       "      <th>0</th>\n",
       "      <td>2020</td>\n",
       "      <td>6</td>\n",
       "      <td>7:22</td>\n",
       "      <td>2543</td>\n",
       "    </tr>\n",
       "    <tr>\n",
       "      <th>1</th>\n",
       "      <td>2020</td>\n",
       "      <td>5</td>\n",
       "      <td>9:35</td>\n",
       "      <td>2366</td>\n",
       "    </tr>\n",
       "    <tr>\n",
       "      <th>2</th>\n",
       "      <td>2020</td>\n",
       "      <td>3</td>\n",
       "      <td>9:00</td>\n",
       "      <td>2267</td>\n",
       "    </tr>\n",
       "    <tr>\n",
       "      <th>3</th>\n",
       "      <td>2020</td>\n",
       "      <td>4</td>\n",
       "      <td>1:25</td>\n",
       "      <td>2247</td>\n",
       "    </tr>\n",
       "    <tr>\n",
       "      <th>4</th>\n",
       "      <td>2020</td>\n",
       "      <td>2</td>\n",
       "      <td>13:55</td>\n",
       "      <td>2207</td>\n",
       "    </tr>\n",
       "  </tbody>\n",
       "</table>\n",
       "</div>"
      ],
      "text/plain": [
       "   accident_year  day_of_week   time  Number_of_Accidents\n",
       "0           2020            6   7:22                 2543\n",
       "1           2020            5   9:35                 2366\n",
       "2           2020            3   9:00                 2267\n",
       "3           2020            4   1:25                 2247\n",
       "4           2020            2  13:55                 2207"
      ]
     },
     "execution_count": 15,
     "metadata": {},
     "output_type": "execute_result"
    }
   ],
   "source": [
    "pedestrians = pd.read_csv(r\"C:\\Users\\hp pc\\Desktop\\Quincy\\accident\\question 3.csv\")\n",
    "pedestrians.head()"
   ]
  },
  {
   "cell_type": "code",
   "execution_count": 16,
   "id": "dbb10311",
   "metadata": {},
   "outputs": [
    {
     "data": {
      "image/png": "[encoded data removed]",
      "text/plain": [
       "<Figure size 432x288 with 1 Axes>"
      ]
     },
     "metadata": {
      "needs_background": "light"
     },
     "output_type": "display_data"
    }
   ],
   "source": [
    "# creating a bar plot \n",
    "plt.bar(pedestrians.day_of_week, pedestrians.Number_of_Accidents)\n",
    "\n",
    "#Adding a title\n",
    "plt.title(\"Number of Accidents based on day of the week for pedestrians\")\n",
    "\n",
    "# Adding labels to the axes\n",
    "plt.xlabel(\"day_of_week\")\n",
    "plt.ylabel(\"Number of Accidents\")\n",
    "\n",
    "# Showing the plot\n",
    "plt.show()"
   ]
  },
  {
   "cell_type": "code",
   "execution_count": 17,
   "id": "7bfa321c",
   "metadata": {},
   "outputs": [
    {
     "data": {
      "image/png": "[encoded data removed]",
      "text/plain": [
       "<Figure size 432x288 with 1 Axes>"
      ]
     },
     "metadata": {
      "needs_background": "light"
     },
     "output_type": "display_data"
    }
   ],
   "source": [
    "# creating a bar plot \n",
    "plt.bar(pedestrians.time, pedestrians.Number_of_Accidents)\n",
    "\n",
    "#Adding a title\n",
    "plt.title(\"Number of Accidents based on Hour of the day for pedestrians\")\n",
    "\n",
    "# Adding labels to the axes\n",
    "\n",
    "plt.xlabel(\"Hours\")\n",
    "plt.ylabel(\"Number of Accidents\")\n",
    "\n",
    "# Showing the plot\n",
    "plt.show()"
   ]
  }
 ],
 "metadata": {
  "kernelspec": {
   "display_name": "Python 3 (ipykernel)",
   "language": "python",
   "name": "python3"
  },
  "language_info": {
   "codemirror_mode": {
    "name": "ipython",
    "version": 3
   },
   "file_extension": ".py",
   "mimetype": "text/x-python",
   "name": "python",
   "nbconvert_exporter": "python",
   "pygments_lexer": "ipython3",
   "version": "3.11.3"
  }
 },
 "nbformat": 4,
 "nbformat_minor": 5
}
