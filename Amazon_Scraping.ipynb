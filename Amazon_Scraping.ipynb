{
 "cells": [
  {
   "cell_type": "code",
   "execution_count": 1,
   "id": "bcf48985",
   "metadata": {},
   "outputs": [],
   "source": [
    "import requests\n",
    "import pandas as pd\n",
    "from bs4 import BeautifulSoup\n",
    "from datetime import datetime\n",
    "import logging"
   ]
  },
  {
   "cell_type": "code",
   "execution_count": 2,
   "id": "498d9f3c",
   "metadata": {},
   "outputs": [],
   "source": [
    "headers = {\n",
    "    \"authority\": \"www.amazon.com\",\n",
    "    \"pragma\": \"no-cache\",\n",
    "    \"cache-control\": \"no-cache\",\n",
    "    \"dnt\": \"1\",\n",
    "    \"upgrade-insecure-requests\": \"1\",\n",
    "    \"user-agent\": \"Mozilla/5.0 (Windows NT 10.0; Win64; x64) AppleWebKit/537.36 (KHTML, like Gecko) Chrome/114.0.0.0 Safari/537.36\",\n",
    "    \"accept\": \"text/html,application/xhtml+xml,application/xml;q=0.9,image/webp,image/apng,*/*;q=0.8,application/signed-exchange;v=b3;q=0.9\",\n",
    "    \"sec-fetch-site\": \"none\",\n",
    "    \"sec-fetch-mode\": \"navigate\",\n",
    "    \"sec-fetch-dest\": \"document\",\n",
    "    \"accept-language\": \"en-GB,en-US;q=0.9,en;q=0.8\",\n",
    "}\n",
    "\n",
    "URLS = [\n",
    "    \"https://www.amazon.com/Dell-3910-Business-Computer-Processor/product-reviews/B0C8WYB2F8/ref=cm_cr_dp_d_show_all_btm?ie=UTF8&reviewerType=all_reviews\",\n",
    "    \"https://www.amazon.com/Dell-3888-Business-Processor-2-Monitor/product-reviews/B0CDJMPMRC/ref=cm_cr_dp_d_show_all_btm?ie=UTF8&reviewerType=all_reviews\",\n",
    "    \"https://www.amazon.com/Sceptre-E248W-19203R-Monitor-Speakers-Metallic/product-reviews/B0773ZY26F/ref=cm_cr_dp_d_show_all_btm?ie=UTF8&reviewerType=all_reviews\",\n",
    "    \"https://www.amazon.com/ELLAS-EARS-Wireless-Earbuds-Waterproof/product-reviews/B0BYCNW37S/ref=cm_cr_dp_d_show_all_btm?ie=UTF8&reviewerType=all_reviews\",\n",
    "    \"https://www.amazon.com/TakeCase-Subwoofer-Earphones-Earphone-Headphones/product-reviews/B0CLS4V5Q8/ref=cm_cr_dp_d_show_all_btm?ie=UTF8&reviewerType=all_reviews\",\n",
    "    \"https://www.amazon.com/Headphones-Warranty-Earphones-Microphone-Isolating/product-reviews/B074M7FJDW/ref=cm_cr_dp_d_show_all_btm?ie=UTF8&reviewerType=all_reviews\"\n",
    "    \"https://www.amazon.com/SanDisk-256GB-Extreme-UHS-I-Memory/product-reviews/B09X7CFXSX/ref=cm_cr_dp_d_show_all_btm?ie=UTF8&reviewerType=all_reviews\"\n",
    "    \"https://www.amazon.com/NIUTO-Portable-1920x1080-Ultra-Slim-Speakers/product-reviews/B0BJ2PLZKL/ref=cm_cr_dp_d_show_all_btm?ie=UTF8&reviewerType=all_reviews\"\n",
    "    \"https://www.amazon.com/G-Anica-Digital-Photography%EF%BC%8C48MP-Vlogging-Card-Wide-Angle/product-reviews/B0CG8ZB8GY/ref=cm_cr_dp_d_show_all_btm?ie=UTF8&reviewerType=all_reviews\"\n",
    "    \"https://www.amazon.com/Sonic-Generations-PlayStation-3/product-reviews/B004X56PWK/ref=cm_cr_dp_d_show_all_btm?ie=UTF8&reviewerType=all_reviews\"\n",
    "    \"https://www.amazon.com/CHENGDAO-Controller-Wireless-Playstation-Rechargeable-3/product-reviews/B0BZKYQVG7/ref=cm_cr_dp_d_show_all_btm?ie=UTF8&reviewerType=all_reviews\"\n",
    "    \"https://www.amazon.com/SB242Y-Zero-Frame-FreeSync-Technology-Ultra-Thin/product-reviews/B0BS9RGKZZ/ref=cm_cr_dp_d_show_all_btm?ie=UTF8&reviewerType=all_reviews\"\n",
    "]"
   ]
  },
  {
   "cell_type": "code",
   "execution_count": 3,
   "id": "ca8d5d8d",
   "metadata": {},
   "outputs": [],
   "source": [
    "def get_page_html(page_url: str) -> str:\n",
    "    resp = requests.get(page_url, headers=headers)\n",
    "    return resp.text\n",
    "\n",
    "\n",
    "def get_reviews_from_html(page_html: str) -> BeautifulSoup:\n",
    "    soup = BeautifulSoup(page_html, \"lxml\")\n",
    "    reviews = soup.find_all(\"div\", {\"class\": \"a-section celwidget\"})\n",
    "    return reviews\n",
    "\n",
    "\n",
    "def get_review_date(soup_object: BeautifulSoup):\n",
    "    date_string = soup_object.find(\"span\", {\"class\": \"review-date\"}).get_text()\n",
    "    return date_string\n",
    "\n",
    "\n",
    "def get_review_text(soup_object: BeautifulSoup) -> str:\n",
    "    review_text = soup_object.find(\n",
    "        \"span\", {\"class\": \"a-size-base review-text review-text-content\"}\n",
    "    ).get_text()\n",
    "    return review_text.strip()\n",
    "\n",
    "\n",
    "def get_review_header(soup_object: BeautifulSoup) -> str:\n",
    "    review_header = soup_object.find(\n",
    "        \"a\",\n",
    "        {\n",
    "            \"class\": \"a-size-base a-link-normal review-title a-color-base review-title-content a-text-bold\"\n",
    "        },\n",
    "    ).get_text()\n",
    "    return review_header.strip()\n",
    "\n",
    "\n",
    "def get_number_stars(soup_object: BeautifulSoup) -> str:\n",
    "    stars = soup_object.find(\"span\", {\"class\": \"a-icon-alt\"}).get_text()\n",
    "    return stars.strip()\n",
    "\n",
    "\n",
    "def get_product_name(soup_object: BeautifulSoup) -> str:\n",
    "    product = soup_object.find(\n",
    "        \"a\", {\"class\": \"a-size-mini a-link-normal a-color-secondary\"}\n",
    "    ).get_text()\n",
    "    return product.strip()\n",
    "\n",
    "\n",
    "def orchestrate_data_gathering(single_review: BeautifulSoup) -> dict:\n",
    "    return {\n",
    "        \"review_text\": get_review_text(single_review),\n",
    "        \"review_date\": get_review_date(single_review),\n",
    "        \"review_title\": get_review_header(single_review),\n",
    "        \"review_stars\": get_number_stars(single_review),\n",
    "        \"review_flavor\": get_product_link(single_review),\n",
    "    }"
   ]
  },
  {
   "cell_type": "code",
   "execution_count": 4,
   "id": "99389f66",
   "metadata": {},
   "outputs": [
    {
     "name": "stderr",
     "output_type": "stream",
     "text": [
      "INFO:root:https://www.amazon.com/Dell-3910-Business-Computer-Processor/product-reviews/B0C8WYB2F8/ref=cm_cr_dp_d_show_all_btm?ie=UTF8&reviewerType=all_reviews\n",
      "INFO:root:https://www.amazon.com/Dell-3888-Business-Processor-2-Monitor/product-reviews/B0CDJMPMRC/ref=cm_cr_dp_d_show_all_btm?ie=UTF8&reviewerType=all_reviews\n",
      "INFO:root:https://www.amazon.com/Sceptre-E248W-19203R-Monitor-Speakers-Metallic/product-reviews/B0773ZY26F/ref=cm_cr_dp_d_show_all_btm?ie=UTF8&reviewerType=all_reviews\n",
      "INFO:root:https://www.amazon.com/ELLAS-EARS-Wireless-Earbuds-Waterproof/product-reviews/B0BYCNW37S/ref=cm_cr_dp_d_show_all_btm?ie=UTF8&reviewerType=all_reviews\n",
      "INFO:root:https://www.amazon.com/TakeCase-Subwoofer-Earphones-Earphone-Headphones/product-reviews/B0CLS4V5Q8/ref=cm_cr_dp_d_show_all_btm?ie=UTF8&reviewerType=all_reviews\n",
      "INFO:root:https://www.amazon.com/Headphones-Warranty-Earphones-Microphone-Isolating/product-reviews/B074M7FJDW/ref=cm_cr_dp_d_show_all_btm?ie=UTF8&reviewerType=all_reviewshttps://www.amazon.com/SanDisk-256GB-Extreme-UHS-I-Memory/product-reviews/B09X7CFXSX/ref=cm_cr_dp_d_show_all_btm?ie=UTF8&reviewerType=all_reviewshttps://www.amazon.com/NIUTO-Portable-1920x1080-Ultra-Slim-Speakers/product-reviews/B0BJ2PLZKL/ref=cm_cr_dp_d_show_all_btm?ie=UTF8&reviewerType=all_reviewshttps://www.amazon.com/G-Anica-Digital-Photography%EF%BC%8C48MP-Vlogging-Card-Wide-Angle/product-reviews/B0CG8ZB8GY/ref=cm_cr_dp_d_show_all_btm?ie=UTF8&reviewerType=all_reviewshttps://www.amazon.com/Sonic-Generations-PlayStation-3/product-reviews/B004X56PWK/ref=cm_cr_dp_d_show_all_btm?ie=UTF8&reviewerType=all_reviewshttps://www.amazon.com/CHENGDAO-Controller-Wireless-Playstation-Rechargeable-3/product-reviews/B0BZKYQVG7/ref=cm_cr_dp_d_show_all_btm?ie=UTF8&reviewerType=all_reviewshttps://www.amazon.com/SB242Y-Zero-Frame-FreeSync-Technology-Ultra-Thin/product-reviews/B0BS9RGKZZ/ref=cm_cr_dp_d_show_all_btm?ie=UTF8&reviewerType=all_reviews\n",
      "INFO:root:0 Is the shape of the dataframe\n",
      "INFO:root:saving to reviews.csv\n",
      "INFO:root:Done yayy\n"
     ]
    }
   ],
   "source": [
    "if __name__ == '__main__':\n",
    "    logging.basicConfig(level=logging.INFO)\n",
    "    all_results = []\n",
    "\n",
    "    for u in URLS:\n",
    "        logging.info(u)\n",
    "        html = get_page_html(u)\n",
    "        reviews = get_reviews_from_html(html)\n",
    "        for rev in reviews:\n",
    "            data = orchestrate_data_gathering(rev)\n",
    "            all_results.append(data)\n",
    "\n",
    "    out = pd.DataFrame.from_records(all_results)\n",
    "    logging.info(f\"{out.shape[0]} Is the shape of the dataframe\")\n",
    "    save_name = f\"{datetime.now().strftime('reviews')}.csv\"\n",
    "    logging.info(f\"saving to {save_name}\")\n",
    "    out.to_csv(save_name)\n",
    "    logging.info('Done yayy')"
   ]
  },
  {
   "cell_type": "code",
   "execution_count": null,
   "id": "2cb0b759",
   "metadata": {},
   "outputs": [],
   "source": []
  }
 ],
 "metadata": {
  "kernelspec": {
   "display_name": "Python 3 (ipykernel)",
   "language": "python",
   "name": "python3"
  },
  "language_info": {
   "codemirror_mode": {
    "name": "ipython",
    "version": 3
   },
   "file_extension": ".py",
   "mimetype": "text/x-python",
   "name": "python",
   "nbconvert_exporter": "python",
   "pygments_lexer": "ipython3",
   "version": "3.11.3"
  }
 },
 "nbformat": 4,
 "nbformat_minor": 5
}
