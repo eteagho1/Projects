{
 "cells": [
  {
   "cell_type": "markdown",
   "id": "f9784e28",
   "metadata": {},
   "source": [
    "# OBJECT ORIENTED PROGRAMMING"
   ]
  },
  {
   "cell_type": "code",
   "execution_count": 14,
   "id": "a5b299f4",
   "metadata": {},
   "outputs": [],
   "source": [
    "class Student:\n",
    "    #initialiazation Constructor\n",
    "    def __init__(self,stid,name,age):\n",
    "        self.stid=stid\n",
    "        self.name=name\n",
    "        self.age=age\n",
    "    def display(self):\n",
    "        print('StudentID =',self.stid,'Name =',self.name,'age =',self.age)"
   ]
  },
  {
   "cell_type": "code",
   "execution_count": 16,
   "id": "60b1b5da",
   "metadata": {},
   "outputs": [
    {
     "name": "stdout",
     "output_type": "stream",
     "text": [
      "StudentID = 11 Name = John age = 12\n"
     ]
    }
   ],
   "source": [
    "student1=Student(11,'John',12)\n",
    "student1.display()"
   ]
  },
  {
   "cell_type": "code",
   "execution_count": 17,
   "id": "f04cf770",
   "metadata": {},
   "outputs": [
    {
     "name": "stdout",
     "output_type": "stream",
     "text": [
      "StudentID = 12 Name = Moni age = 45\n"
     ]
    }
   ],
   "source": [
    "student2=Student(12,'Moni',45)\n",
    "student2.display()"
   ]
  },
  {
   "cell_type": "code",
   "execution_count": 18,
   "id": "2ccf0114",
   "metadata": {},
   "outputs": [],
   "source": [
    "class Employee:\n",
    "    def __init__(self,empid,name,age,salary):\n",
    "        self.empid=empid\n",
    "        self.name=name\n",
    "        self.age=age\n",
    "        self.salary=salary\n",
    "    def display(self):\n",
    "        print(self.empid,self.name,self.age,self.salary)"
   ]
  },
  {
   "cell_type": "code",
   "execution_count": 20,
   "id": "200cc9b8",
   "metadata": {},
   "outputs": [
    {
     "name": "stdout",
     "output_type": "stream",
     "text": [
      "100 Ete 33 1000\n"
     ]
    }
   ],
   "source": [
    "employee=Employee(100,'Ete',33,1000)\n",
    "employee.display()"
   ]
  },
  {
   "cell_type": "code",
   "execution_count": 3,
   "id": "2d552ee5",
   "metadata": {},
   "outputs": [],
   "source": [
    "class School:\n",
    "    Head_Teacher='Wole Adesida'\n",
    "    def __init__(self,schoolname,schoollocation,schooldate,schoolstate):\n",
    "        self.schoolname=schoolname\n",
    "        self.schoollocation=schoollocation\n",
    "        self.schooldate=schooldate\n",
    "        self.schoolstate=schoolstate\n",
    "    def display(self):\n",
    "        print(self.schoolname,self.schoollocation,self.schooldate,self.schoolstate)"
   ]
  },
  {
   "cell_type": "code",
   "execution_count": 4,
   "id": "c0f88cf0",
   "metadata": {},
   "outputs": [
    {
     "name": "stdout",
     "output_type": "stream",
     "text": [
      "Winis Effurun 10-11-2008 Delta State\n"
     ]
    }
   ],
   "source": [
    "school1=School('Winis','Effurun','10-11-2008','Delta State')\n",
    "school1.display()"
   ]
  },
  {
   "cell_type": "code",
   "execution_count": 5,
   "id": "29db2b14",
   "metadata": {},
   "outputs": [
    {
     "data": {
      "text/plain": [
       "'Wole Adesida'"
      ]
     },
     "execution_count": 5,
     "metadata": {},
     "output_type": "execute_result"
    }
   ],
   "source": [
    "School.Head_Teacher"
   ]
  },
  {
   "cell_type": "code",
   "execution_count": 6,
   "id": "89f3da29",
   "metadata": {},
   "outputs": [
    {
     "data": {
      "text/plain": [
       "'Winis'"
      ]
     },
     "execution_count": 6,
     "metadata": {},
     "output_type": "execute_result"
    }
   ],
   "source": [
    "school1.schoolname"
   ]
  },
  {
   "cell_type": "code",
   "execution_count": 7,
   "id": "73ea222d",
   "metadata": {},
   "outputs": [],
   "source": [
    "class car:\n",
    "    def __init__(self,company,color):\n",
    "        self.company=company\n",
    "        self.color=color\n",
    "    def display(self):\n",
    "        print('This is a',self.color,self.company)"
   ]
  },
  {
   "cell_type": "code",
   "execution_count": 8,
   "id": "f0558050",
   "metadata": {},
   "outputs": [],
   "source": [
    "def main():\n",
    "    c=car('Ferri','Red')\n",
    "    c.display()"
   ]
  },
  {
   "cell_type": "code",
   "execution_count": 9,
   "id": "fc54fa91",
   "metadata": {},
   "outputs": [
    {
     "name": "stdout",
     "output_type": "stream",
     "text": [
      "This is a Red Ferri\n"
     ]
    }
   ],
   "source": [
    "if __name__ == '__main__':\n",
    "    main()"
   ]
  },
  {
   "cell_type": "code",
   "execution_count": null,
   "id": "b2b3068e",
   "metadata": {},
   "outputs": [],
   "source": []
  }
 ],
 "metadata": {
  "kernelspec": {
   "display_name": "Python 3 (ipykernel)",
   "language": "python",
   "name": "python3"
  },
  "language_info": {
   "codemirror_mode": {
    "name": "ipython",
    "version": 3
   },
   "file_extension": ".py",
   "mimetype": "text/x-python",
   "name": "python",
   "nbconvert_exporter": "python",
   "pygments_lexer": "ipython3",
   "version": "3.11.3"
  }
 },
 "nbformat": 4,
 "nbformat_minor": 5
}
